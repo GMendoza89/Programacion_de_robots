{
 "cells": [
  {
   "cell_type": "markdown",
   "metadata": {},
   "source": [
    "Matriz de tranformación Homogenea"
   ]
  },
  {
   "cell_type": "markdown",
   "metadata": {},
   "source": [
    "La derivación de la matriz de transformación homogénea es similar al caso 2D de la ecuación. Pero ampliado para tener en cuenta la dimensión z. t ∈ R3 es un vector que define el origen de la trama {B} con respecto a la trama {A}, y R es la matriz orto normal de 3 × 3 que describe la orientación de los ejes de la trama {B} con respecto a la trama {A} .\n"
   ]
  },
  {
   "cell_type": "markdown",
   "metadata": {},
   "source": [
    "<img src=Image/Imagen_1.png>"
   ]
  },
  {
   "cell_type": "markdown",
   "metadata": {},
   "source": [
    "Ejercicio Práctico\n",
    "Como se muestra en la siguiente imagen se tiene un objeto con coordenadas [20, 0] desde de el marco de referencia ee, ¿Cúales son las coordenadas del objeto desde la base?\n"
   ]
  },
  {
   "cell_type": "markdown",
   "metadata": {},
   "source": [
    "<img src=Image/Imagen_2.png>"
   ]
  },
  {
   "cell_type": "markdown",
   "metadata": {},
   "source": [
    "Importamos Módulos necesarios"
   ]
  },
  {
   "cell_type": "code",
   "execution_count": 1,
   "metadata": {},
   "outputs": [],
   "source": [
    "import numpy as np\n",
    "from matplotlib import pyplot as plt"
   ]
  },
  {
   "cell_type": "markdown",
   "metadata": {},
   "source": [
    "Generamos la matriz de tranformación de J1 a la base\n",
    "primero calcularemos el ángulo theta de rotacion del marco de referencia de la base al marco de referencia j1. El cúal estaria dado por 120 - 90\n"
   ]
  },
  {
   "cell_type": "code",
   "execution_count": 25,
   "metadata": {},
   "outputs": [],
   "source": [
    "theta = (30 * np.pi/180) # realizamos las operaciones en radianes"
   ]
  },
  {
   "cell_type": "markdown",
   "metadata": {},
   "source": [
    "Ahora calculamos la matriz de rotación"
   ]
  },
  {
   "cell_type": "code",
   "execution_count": 45,
   "metadata": {},
   "outputs": [
    {
     "name": "stdout",
     "output_type": "stream",
     "text": [
      "[[ 0.8660254 -0.5      ]\n",
      " [ 0.5        0.8660254]]\n"
     ]
    }
   ],
   "source": [
    "rotationMatrix = np.array([[np.cos(theta), -np.sin(theta)],\n",
    "                          [np.sin(theta), np.cos(theta)]])\n",
    "print(rotationMatrix)"
   ]
  },
  {
   "cell_type": "markdown",
   "metadata": {},
   "source": [
    "Construimos el vector de traslación"
   ]
  },
  {
   "cell_type": "code",
   "execution_count": 46,
   "metadata": {},
   "outputs": [
    {
     "name": "stdout",
     "output_type": "stream",
     "text": [
      "[[-50.        ]\n",
      " [ 86.60254038]]\n"
     ]
    }
   ],
   "source": [
    "phi = (120 * np.pi)/180\n",
    "translationVector = np.array([[100*np.cos(phi)],[100*np.sin(phi)]])\n",
    "print(translationVector)"
   ]
  },
  {
   "cell_type": "markdown",
   "metadata": {},
   "source": [
    "construimos la matriz de tranformación homogenea"
   ]
  },
  {
   "cell_type": "code",
   "execution_count": 47,
   "metadata": {},
   "outputs": [
    {
     "name": "stdout",
     "output_type": "stream",
     "text": [
      "[[  0.8660254   -0.5        -50.        ]\n",
      " [  0.5          0.8660254   86.60254038]\n",
      " [  0.           0.           1.        ]]\n"
     ]
    }
   ],
   "source": [
    "rtMatrix = np.concatenate((rotationMatrix,translationVector),axis = 1)\n",
    "j1Tb = np.concatenate((rtMatrix,[[0,0,1]]),axis = 0)\n",
    "print(j1Tb)"
   ]
  },
  {
   "cell_type": "markdown",
   "metadata": {},
   "source": [
    "repetimos los pasos para la transformacion j1,j2"
   ]
  },
  {
   "cell_type": "code",
   "execution_count": 49,
   "metadata": {},
   "outputs": [
    {
     "name": "stdout",
     "output_type": "stream",
     "text": [
      "[[ 1. -0.]\n",
      " [ 0.  1.]]\n",
      "[[100.]\n",
      " [  0.]]\n",
      "[[  1.  -0. 100.]\n",
      " [  0.   1.   0.]\n",
      " [  0.   0.   1.]]\n"
     ]
    }
   ],
   "source": [
    "theta2 = (0 * np.pi/180) # realizamos las operaciones en radianes\n",
    "rotationMatrix2 = np.array([[np.cos(theta2), -np.sin(theta2)],\n",
    "                          [np.sin(theta2), np.cos(theta2)]])\n",
    "print(rotationMatrix2)\n",
    "phi2 = (0 * np.pi)/180\n",
    "\n",
    "translationVector2 = np.array([[100*np.cos(phi2)],[100*np.sin(phi2)]])\n",
    "print(translationVector2)\n",
    "rtMatrix2 = np.concatenate((rotationMatrix2,translationVector2),axis = 1)\n",
    "j2Tj1 = np.concatenate((rtMatrix2,[[0,0,1]]),axis = 0)\n",
    "print(j2Tj1)"
   ]
  },
  {
   "cell_type": "markdown",
   "metadata": {},
   "source": [
    "ahora realizamos la tranformación j2 a ee"
   ]
  },
  {
   "cell_type": "code",
   "execution_count": 50,
   "metadata": {},
   "outputs": [
    {
     "name": "stdout",
     "output_type": "stream",
     "text": [
      "[[ 0.70710678  0.70710678]\n",
      " [-0.70710678  0.70710678]]\n",
      "[[ 35.35533906]\n",
      " [-35.35533906]]\n",
      "[[  0.70710678   0.70710678  35.35533906]\n",
      " [ -0.70710678   0.70710678 -35.35533906]\n",
      " [  0.           0.           1.        ]]\n"
     ]
    }
   ],
   "source": [
    "theta3 = (-45 * np.pi/180) # realizamos las operaciones en radianes\n",
    "rotationMatrix3 = np.array([[np.cos(theta3), -np.sin(theta3)],\n",
    "                          [np.sin(theta3), np.cos(theta3)]])\n",
    "print(rotationMatrix3)\n",
    "phi3 = (-45 * np.pi)/180\n",
    "\n",
    "translationVector3 = np.array([[50*np.cos(phi3)],[50*np.sin(phi3)]])\n",
    "print(translationVector3)\n",
    "rtMatrix3 = np.concatenate((rotationMatrix3,translationVector3),axis = 1)\n",
    "eeTj2 = np.concatenate((rtMatrix3,[[0,0,1]]),axis = 0)\n",
    "print(eeTj2)"
   ]
  },
  {
   "cell_type": "markdown",
   "metadata": {},
   "source": [
    "ahora calculamos la tranformacion de j2 a base"
   ]
  },
  {
   "cell_type": "code",
   "execution_count": 51,
   "metadata": {},
   "outputs": [
    {
     "name": "stdout",
     "output_type": "stream",
     "text": [
      "[[  0.8660254   -0.5         36.60254038]\n",
      " [  0.5          0.8660254  136.60254038]\n",
      " [  0.           0.           1.        ]]\n"
     ]
    }
   ],
   "source": [
    "j2Tb = j1Tb.dot(j2Tj1)\n",
    "print(j2Tb)"
   ]
  },
  {
   "cell_type": "markdown",
   "metadata": {},
   "source": [
    "Calculamos la tranformación de ee a base"
   ]
  },
  {
   "cell_type": "code",
   "execution_count": 52,
   "metadata": {},
   "outputs": [
    {
     "name": "stdout",
     "output_type": "stream",
     "text": [
      "[[  0.96592583   0.25881905  84.89883169]\n",
      " [ -0.25881905   0.96592583 123.66158812]\n",
      " [  0.           0.           1.        ]]\n"
     ]
    }
   ],
   "source": [
    "eeTb = j2Tb.dot(eeTj2)\n",
    "print(eeTb)"
   ]
  },
  {
   "cell_type": "code",
   "execution_count": 53,
   "metadata": {},
   "outputs": [
    {
     "name": "stdout",
     "output_type": "stream",
     "text": [
      "[104.21734822 118.48520722   1.        ]\n"
     ]
    }
   ],
   "source": [
    "objetoEE = [20,0,1]\n",
    "ObjetoBase = eeTb.dot(objetoEE)\n",
    "print(ObjetoBase)"
   ]
  },
  {
   "cell_type": "code",
   "execution_count": 58,
   "metadata": {},
   "outputs": [],
   "source": [
    "xBJ1 = j1Tb[0,2]\n",
    "yBj1 = j1Tb[1,2]"
   ]
  },
  {
   "cell_type": "code",
   "execution_count": 59,
   "metadata": {},
   "outputs": [
    {
     "data": {
      "image/png": "[encoded data removed]",
      "text/plain": [
       "<Figure size 432x288 with 1 Axes>"
      ]
     },
     "metadata": {
      "needs_background": "light"
     },
     "output_type": "display_data"
    }
   ],
   "source": [
    "fig, axes = plt.subplots()\n",
    "# primero los puntosj\n",
    "plt.plot(0,0, 'o')\n",
    "plt.plot(xBJ1,yBj1, 'o')\n",
    "# plt.plot(x_J2,y_J2, 'o')\n",
    "# plt.plot(x_ee,y_ee, 'x')\n",
    "# plt.plot(x_objeto, y_objeto, 'bo')\n",
    "# grafiquemos luego las lineas\n",
    "plt.plot([0,xBJ1],[0,yBj1])\n",
    "# ajustamos los ejes\n",
    "axes.set_xlim(-140,140)\n",
    "axes.set_ylim(0,140)\n",
    "plt.show()"
   ]
  }
 ],
 "metadata": {
  "kernelspec": {
   "display_name": "Python 3.9.10 64-bit",
   "language": "python",
   "name": "python3"
  },
  "language_info": {
   "codemirror_mode": {
    "name": "ipython",
    "version": 3
   },
   "file_extension": ".py",
   "mimetype": "text/x-python",
   "name": "python",
   "nbconvert_exporter": "python",
   "pygments_lexer": "ipython3",
   "version": "3.9.10"
  },
  "orig_nbformat": 4,
  "vscode": {
   "interpreter": {
    "hash": "aee8b7b246df8f9039afb4144a1f6fd8d2ca17a180786b69acc140d282b71a49"
   }
  }
 },
 "nbformat": 4,
 "nbformat_minor": 2
}
